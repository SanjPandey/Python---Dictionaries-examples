{
 "cells": [
  {
   "cell_type": "code",
   "execution_count": null,
   "id": "b2cde2f7",
   "metadata": {},
   "outputs": [],
   "source": [
    "Static example to count the different number of fruits "
   ]
  },
  {
   "cell_type": "code",
   "execution_count": 19,
   "id": "b5da4901",
   "metadata": {},
   "outputs": [
    {
     "name": "stdout",
     "output_type": "stream",
     "text": [
      "2\n",
      "2\n",
      "1\n"
     ]
    }
   ],
   "source": [
    "apple_count=0\n",
    "mango_count=0\n",
    "orange_cont=0\n",
    "\n",
    "a=[\"apple\",\"apple\",\"mango\",\"mango\",\"orange\"]\n",
    "for fruit in a:\n",
    "    if fruit==\"apple\":\n",
    "        apple_count=apple_count+1\n",
    "    if fruit==\"mango\":\n",
    "        mango_count=mango_count+1\n",
    "else:\n",
    "        orange_cont=orange_cont+1\n",
    "       # print(orange_cont)\n",
    "        \n",
    "        \n",
    "print(apple_count)\n",
    "print(mango_count)\n",
    "print(orange_cont)\n",
    "\n",
    "    "
   ]
  },
  {
   "cell_type": "code",
   "execution_count": null,
   "id": "d6e89c9f",
   "metadata": {},
   "outputs": [],
   "source": [
    "write a program to count the different number of fruits. like how many apple,orange,mango in list."
   ]
  },
  {
   "cell_type": "code",
   "execution_count": 17,
   "id": "acc77ae0",
   "metadata": {},
   "outputs": [
    {
     "name": "stdout",
     "output_type": "stream",
     "text": [
      "apple: 2\n",
      "mango: 2\n",
      "orange: 1\n"
     ]
    }
   ],
   "source": [
    "fruit_counts = {}\n",
    "\n",
    "a = [\"apple\", \"apple\", \"mango\", \"mango\", \"orange\"]\n",
    "\n",
    "for fruit in a:\n",
    "    if fruit in fruit_counts:\n",
    "        fruit_counts[fruit] += 1\n",
    "    else:\n",
    "        fruit_counts[fruit] = 1\n",
    "\n",
    "# Print the counts for each fruit\n",
    "for fruit, count in fruit_counts.items():\n",
    "    print(f\"{fruit}: {count}\")"
   ]
  },
  {
   "cell_type": "code",
   "execution_count": 50,
   "id": "49bc3c29",
   "metadata": {},
   "outputs": [
    {
     "name": "stdout",
     "output_type": "stream",
     "text": [
      "{'apple': 1, 'mango': 1, 'orange': 1}\n"
     ]
    }
   ],
   "source": [
    "fruit_dict={}\n",
    "a=[\"apple\",\"apple\",\"mango\",\"mango\",\"orange\"]\n",
    "\n",
    "for i in a:\n",
    "    if i in fruit_dict.keys():\n",
    "        value=fruit_dict.get(i)\n",
    "        value=value+1\n",
    "        fruit_dict[i]=value\n",
    "    else:\n",
    "        fruit_dict[i]=1\n",
    "print(fruit_dict)"
   ]
  },
  {
   "cell_type": "code",
   "execution_count": 10,
   "id": "f6dd89cc",
   "metadata": {},
   "outputs": [
    {
     "name": "stdout",
     "output_type": "stream",
     "text": [
      "{'apple': 2, 'mango': 2, 'orange': 1}\n"
     ]
    }
   ],
   "source": [
    "fruit_dict={}\n",
    "a=[\"apple\",\"apple\",\"mango\",\"mango\",\"orange\"]\n",
    "\n",
    "for i in a:\n",
    "    fruit_dict[i]=a.count(i)\n",
    "print(fruit_dict)"
   ]
  },
  {
   "cell_type": "code",
   "execution_count": 11,
   "id": "9ce71af0",
   "metadata": {},
   "outputs": [
    {
     "name": "stdout",
     "output_type": "stream",
     "text": [
      "{'apple': 2, 'mango': 2, 'orange': 1}\n"
     ]
    }
   ],
   "source": [
    "fruit_dict={}\n",
    "a=[\"apple\",\"apple\",\"mango\",\"mango\",\"orange\"]\n",
    "\n",
    "for i in a:\n",
    "    fruit_dict[i]=fruit_dict.get(i,0)+1\n",
    "print(fruit_dict)"
   ]
  },
  {
   "cell_type": "code",
   "execution_count": 52,
   "id": "39b3438c",
   "metadata": {},
   "outputs": [
    {
     "name": "stdout",
     "output_type": "stream",
     "text": [
      "apple\n",
      "orange\n",
      "Hero\n",
      "pepsi\n"
     ]
    }
   ],
   "source": [
    "a={\"apple\":\"Fruit\",\"orange\":\"Fruit\",\"Hero\":\"Bike\",\"pepsi\":\"drink\"}\n",
    "for k in a.keys():\n",
    "    print(k)"
   ]
  },
  {
   "cell_type": "code",
   "execution_count": 13,
   "id": "a92f7c5b",
   "metadata": {},
   "outputs": [
    {
     "name": "stdout",
     "output_type": "stream",
     "text": [
      "Fruit\n",
      "Fruit\n",
      "Bike\n",
      "drink\n"
     ]
    }
   ],
   "source": [
    "for v in a.values():\n",
    "    print(v)"
   ]
  },
  {
   "cell_type": "code",
   "execution_count": 14,
   "id": "c7a3cd4b",
   "metadata": {},
   "outputs": [
    {
     "data": {
      "text/plain": [
       "dict_items([('apple', 'Fruit'), ('orange', 'Fruit'), ('Hero', 'Bike'), ('pepsi', 'drink')])"
      ]
     },
     "execution_count": 14,
     "metadata": {},
     "output_type": "execute_result"
    }
   ],
   "source": [
    "a.items()"
   ]
  },
  {
   "cell_type": "code",
   "execution_count": 15,
   "id": "1d65e4d7",
   "metadata": {},
   "outputs": [
    {
     "name": "stdout",
     "output_type": "stream",
     "text": [
      "key is apple value is Fruit\n",
      "key is orange value is Fruit\n",
      "key is Hero value is Bike\n",
      "key is pepsi value is drink\n"
     ]
    }
   ],
   "source": [
    "for k,v in a.items():\n",
    "    print(\"key is\",k, \"value is\",v)"
   ]
  },
  {
   "cell_type": "code",
   "execution_count": 16,
   "id": "06acf737",
   "metadata": {},
   "outputs": [
    {
     "name": "stdout",
     "output_type": "stream",
     "text": [
      "{'Fruit': 'orange', 'Bike': 'Hero', 'drink': 'pepsi'}\n"
     ]
    }
   ],
   "source": [
    "new_dict={}\n",
    "for k,v in a.items():\n",
    "    new_dict[v]=k\n",
    "print(new_dict)"
   ]
  },
  {
   "cell_type": "code",
   "execution_count": 47,
   "id": "21ab393b",
   "metadata": {},
   "outputs": [
    {
     "name": "stdout",
     "output_type": "stream",
     "text": [
      "1\n",
      "4\n",
      "5\n",
      "10\n",
      "20\n",
      "21\n"
     ]
    }
   ],
   "source": [
    "a = [5, 4, 10, 21, 1, 20]\n",
    "\n",
    "# Selection sort implementation\n",
    "#n = len(a)\n",
    "for i in range(len(a)-1):\n",
    "    min_index = i\n",
    "    for j in range(i + 1, len(a)):\n",
    "        if a[j] < a[min_index]:\n",
    "            min_index = j\n",
    "\n",
    "    # Swap the found minimum element with the first element\n",
    "    a[i], a[min_index] = a[min_index], a[i]\n",
    "\n",
    "# Print the sorted list\n",
    "for i in a:\n",
    "    print(i)\n",
    "\n"
   ]
  },
  {
   "cell_type": "code",
   "execution_count": null,
   "id": "484bea33",
   "metadata": {},
   "outputs": [],
   "source": []
  },
  {
   "cell_type": "code",
   "execution_count": null,
   "id": "37bd442f",
   "metadata": {},
   "outputs": [],
   "source": []
  }
 ],
 "metadata": {
  "kernelspec": {
   "display_name": "Python 3 (ipykernel)",
   "language": "python",
   "name": "python3"
  },
  "language_info": {
   "codemirror_mode": {
    "name": "ipython",
    "version": 3
   },
   "file_extension": ".py",
   "mimetype": "text/x-python",
   "name": "python",
   "nbconvert_exporter": "python",
   "pygments_lexer": "ipython3",
   "version": "3.11.5"
  }
 },
 "nbformat": 4,
 "nbformat_minor": 5
}
